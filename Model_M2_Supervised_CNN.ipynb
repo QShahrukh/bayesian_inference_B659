{
 "cells": [
  {
   "cell_type": "code",
   "execution_count": 22,
   "id": "d8840ef8-12e4-4457-bcea-0f789e7538f1",
   "metadata": {
    "id": "d8840ef8-12e4-4457-bcea-0f789e7538f1"
   },
   "outputs": [],
   "source": [
    "import torch\n",
    "import torch.nn as nn\n",
    "\n",
    "import numpy as np\n",
    "\n",
    "from tqdm import tqdm\n",
    "from torchvision.utils import save_image, make_grid\n",
    "from torch.utils.tensorboard import SummaryWriter\n",
    "import warnings\n",
    "import torchvision\n",
    "warnings.filterwarnings('ignore')"
   ]
  },
  {
   "cell_type": "code",
   "execution_count": 23,
   "id": "8W9eSJR-DhV4",
   "metadata": {
    "id": "8W9eSJR-DhV4"
   },
   "outputs": [],
   "source": [
    "# !rm -rf runs"
   ]
  },
  {
   "cell_type": "code",
   "execution_count": 24,
   "id": "zPY7Zojr23-m",
   "metadata": {
    "id": "zPY7Zojr23-m"
   },
   "outputs": [],
   "source": [
    "# from google.colab import drive\n",
    "# drive.mount('/content/drive')"
   ]
  },
  {
   "cell_type": "code",
   "execution_count": 25,
   "id": "u-r5cLu23eFA",
   "metadata": {
    "id": "u-r5cLu23eFA"
   },
   "outputs": [],
   "source": [
    "DEVICE = 'cuda'"
   ]
  },
  {
   "cell_type": "code",
   "execution_count": 26,
   "id": "83466082-f96a-4fd3-9e38-e4fd5ff39338",
   "metadata": {
    "id": "83466082-f96a-4fd3-9e38-e4fd5ff39338"
   },
   "outputs": [],
   "source": [
    "# Pytorch categorical repar as discussed \n",
    "def reparameterise_logit(logits):\n",
    "    y = nn.functional.gumbel_softmax(logits, tau=0.5, hard=False)\n",
    "    return y"
   ]
  },
  {
   "cell_type": "code",
   "execution_count": 27,
   "id": "b3f996df-081b-4e81-afdd-319162cb80fb",
   "metadata": {
    "id": "b3f996df-081b-4e81-afdd-319162cb80fb"
   },
   "outputs": [],
   "source": [
    "# Defining model\n",
    "class M2SupervisedCNN(nn.Module):\n",
    "    \n",
    "    def __init__(self, \n",
    "                 num_labels,\n",
    "                 input_dim, \n",
    "                 hidden_dim, \n",
    "                 output_dim,\n",
    "                 latent_dim\n",
    "                ):\n",
    "\n",
    "        super(M2SupervisedCNN, self).__init__()\n",
    "        \n",
    "        # Encode Layers\n",
    "        \n",
    "        # Adding couple of CNN layer and collapising it to linear to learn RGB data\n",
    "\n",
    "        self.enc_CNN_1 = nn.Conv2d(3, 6, 4)\n",
    "        self.enc_CNN_2 = nn.Conv2d(6, 2, 2)\n",
    "\n",
    "        output_dim = 2*28*28\n",
    "\n",
    "        self.enc_FC_input = nn.Linear(output_dim, hidden_dim)\n",
    "        \n",
    "        # self.enc_FC_input = nn.Linear(input_dim, hidden_dim)\n",
    "\n",
    "        self.ReLU = nn.ReLU()\n",
    "        \n",
    "        # Logits\n",
    "        self.enc_fc_logits = nn.Linear(hidden_dim, num_labels)\n",
    "         \n",
    "        # Mean and Variance\n",
    "        self.enc_FC_mean = nn.Linear(hidden_dim + num_labels, latent_dim)\n",
    "        self.enc_FC_var  = nn.Linear(hidden_dim + num_labels, latent_dim)\n",
    "        \n",
    "        # Decoder Layers\n",
    "        \n",
    "        self.dec_FC_hidden = nn.Linear(latent_dim + num_labels, hidden_dim)\n",
    "        self.dec_FC_output = nn.Linear(hidden_dim, output_dim)\n",
    "        \n",
    "        # Using conv transpose to reconstruct rgp channels.\n",
    "        self.dec_CNN_2_tras = torch.nn.ConvTranspose2d(2, 6, 2)\n",
    "        self.dec_CNN_1_tras = torch.nn.ConvTranspose2d(6, 3, 4)\n",
    "        \n",
    "    def reparameterization_trick(self, mean, var):\n",
    "        epsilon = torch.randn_like(var).to(DEVICE)        \n",
    "        z = mean + var*epsilon\n",
    "        return z\n",
    "    \n",
    "    def forward(self, x):\n",
    "        \n",
    "        # Encode\n",
    "        \n",
    "        first_ = self.enc_CNN_1(x)\n",
    "        second_ = self.enc_CNN_2(first_)\n",
    "\n",
    "        view_ = second_.view(-1, 2*28*28)\n",
    "\n",
    "        h_ = self.ReLU(self.enc_FC_input(view_))\n",
    "        \n",
    "        Y_hat_logits = torch.softmax(self.enc_fc_logits(h_), dim=1)\n",
    "        \n",
    "        # Categorical reparameterization, it take log of probabilities\n",
    "        Y_har_repa = reparameterise_logit(torch.log(Y_hat_logits+1e-20))\n",
    "        \n",
    "        h_Y_hat = torch.cat([h_, Y_har_repa], dim=1)\n",
    "        \n",
    "        mean     = self.enc_FC_mean(h_Y_hat)\n",
    "        log_var  = self.enc_FC_var(h_Y_hat)\n",
    "        \n",
    "        z = self.reparameterization_trick(mean, torch.exp(0.5 * log_var))\n",
    "        \n",
    "        # Decode\n",
    "        \n",
    "        z_Y_hat = torch.cat([z, Y_har_repa], dim=1)\n",
    "        \n",
    "        h     = self.ReLU(self.dec_FC_hidden(z_Y_hat))\n",
    "\n",
    "        linear_out = self.dec_FC_output(h)\n",
    "        view_ = linear_out.view(-1, 2, 28, 28)\n",
    "        \n",
    "        a = self.dec_CNN_2_tras(view_)\n",
    "        x_hat = torch.sigmoid(self.dec_CNN_1_tras(a))\n",
    "\n",
    "        return x_hat, mean, log_var, Y_hat_logits"
   ]
  },
  {
   "cell_type": "code",
   "execution_count": 28,
   "id": "72498618-f517-4434-a3bd-d1246ff1d16f",
   "metadata": {
    "id": "72498618-f517-4434-a3bd-d1246ff1d16f"
   },
   "outputs": [],
   "source": [
    "from torch.optim import Adam, SGD\n",
    "\n",
    "cross_el = nn.CrossEntropyLoss()\n",
    "\n",
    "# Loss function \n",
    "def loss_function_CNN(x,\n",
    "                  x_hat,\n",
    "                  mean,\n",
    "                  log_var,\n",
    "                  y,\n",
    "                  y_hat,\n",
    "                  alpha\n",
    "                 ):\n",
    "    \n",
    "    # Compute reporduction loss\n",
    "\n",
    "    x = x.view(x.size(0), -1)\n",
    "    x_hat = x_hat.view(x_hat.size(0), -1)\n",
    "\n",
    "    # reproduction_loss = nn.functional.binary_cross_entropy(x_hat, x, reduction='sum')\n",
    "\n",
    "    # Using cross entropy with logits due to error which is possibly due to numeric instability where probably sigmoid returns a value which is not in between 0 and 1.\n",
    "    reproduction_loss = nn.functional.binary_cross_entropy_with_logits(x_hat, x, reduction='sum')\n",
    "    y_hat_loss = cross_el(y_hat, y)\n",
    "    \n",
    "    KLD = - 0.5 * torch.sum(1+ log_var - mean.pow(2) - log_var.exp())\n",
    "\n",
    "    return reproduction_loss + KLD + (alpha * y_hat_loss)"
   ]
  },
  {
   "cell_type": "code",
   "execution_count": 29,
   "id": "FRpqfy9I6x0K",
   "metadata": {
    "id": "FRpqfy9I6x0K"
   },
   "outputs": [],
   "source": [
    "# SVHN Dataset"
   ]
  },
  {
   "cell_type": "code",
   "execution_count": 30,
   "id": "pu-o3XhV7zxa",
   "metadata": {
    "id": "pu-o3XhV7zxa"
   },
   "outputs": [],
   "source": [
    "batch_size = 100"
   ]
  },
  {
   "cell_type": "code",
   "execution_count": 31,
   "id": "OE131MDk74gZ",
   "metadata": {
    "id": "OE131MDk74gZ"
   },
   "outputs": [],
   "source": [
    "from torchvision.datasets import SVHN\n",
    "from torchvision.datasets import MNIST\n",
    "import torchvision.transforms as transforms\n",
    "from torch.utils.data import DataLoader\n"
   ]
  },
  {
   "cell_type": "code",
   "execution_count": 32,
   "id": "snL6zuiQZ0uF",
   "metadata": {
    "colab": {
     "base_uri": "https://localhost:8080/"
    },
    "id": "snL6zuiQZ0uF",
    "outputId": "4935c413-9fdb-4fd7-dd6c-6b89bf7fc1eb"
   },
   "outputs": [
    {
     "name": "stdout",
     "output_type": "stream",
     "text": [
      "Using downloaded and verified file: datasets/train_32x32.mat\n"
     ]
    }
   ],
   "source": [
    "# loading data set\n",
    "data_set = SVHN('datasets', \n",
    "                      split='train',\n",
    "                      download=True)\n"
   ]
  },
  {
   "cell_type": "code",
   "execution_count": 33,
   "id": "2ykF3X2IBxxc",
   "metadata": {
    "colab": {
     "base_uri": "https://localhost:8080/"
    },
    "id": "2ykF3X2IBxxc",
    "outputId": "598e7f2e-6425-41a7-fdf0-709ffbe03529"
   },
   "outputs": [
    {
     "data": {
      "text/plain": [
       "(73257, 3, 32, 32)"
      ]
     },
     "execution_count": 33,
     "metadata": {},
     "output_type": "execute_result"
    }
   ],
   "source": [
    "data_set.data.shape"
   ]
  },
  {
   "cell_type": "code",
   "execution_count": 34,
   "id": "lEr8XLKFBFfg",
   "metadata": {
    "id": "lEr8XLKFBFfg"
   },
   "outputs": [],
   "source": [
    "# Computing mean and std, which is used for normalizig while loading data. \n",
    "c1 = data_set.data[:,0,:,:].mean()/255\n",
    "c2 = data_set.data[:,1,:,:].mean()/255\n",
    "c3 = data_set.data[:,2,:,:].mean()/255\n",
    "\n",
    "c1_std = data_set.data[:,0,:,:].std()/255\n",
    "c2_std = data_set.data[:,1,:,:].std()/255\n",
    "c3_std = data_set.data[:,2,:,:].std()/255"
   ]
  },
  {
   "cell_type": "code",
   "execution_count": 35,
   "id": "9YgrYCSbDSGH",
   "metadata": {
    "colab": {
     "base_uri": "https://localhost:8080/"
    },
    "id": "9YgrYCSbDSGH",
    "outputId": "cb085cd1-0d37-4a07-8056-4dc77b6cc868"
   },
   "outputs": [
    {
     "data": {
      "text/plain": [
       "(0.4376821046090723,\n",
       " 0.4437697045639686,\n",
       " 0.4728044222297267,\n",
       " 0.19803012447157134,\n",
       " 0.20101562471828877,\n",
       " 0.19703614172172396)"
      ]
     },
     "execution_count": 35,
     "metadata": {},
     "output_type": "execute_result"
    }
   ],
   "source": [
    "c1, c2, c3, c1_std, c2_std, c3_std"
   ]
  },
  {
   "cell_type": "code",
   "execution_count": 35,
   "id": "YmchQJ13BnLR",
   "metadata": {
    "id": "YmchQJ13BnLR"
   },
   "outputs": [],
   "source": []
  },
  {
   "cell_type": "code",
   "execution_count": 35,
   "id": "hYvzLZiZBlel",
   "metadata": {
    "id": "hYvzLZiZBlel"
   },
   "outputs": [],
   "source": []
  },
  {
   "cell_type": "code",
   "execution_count": 35,
   "id": "mCGvsciOBbtD",
   "metadata": {
    "id": "mCGvsciOBbtD"
   },
   "outputs": [],
   "source": []
  },
  {
   "cell_type": "code",
   "execution_count": 36,
   "id": "CLdIN_YH7Tmz",
   "metadata": {
    "colab": {
     "base_uri": "https://localhost:8080/"
    },
    "id": "CLdIN_YH7Tmz",
    "outputId": "afb49216-9a39-4c7e-8413-eaa57bc73c96"
   },
   "outputs": [
    {
     "name": "stdout",
     "output_type": "stream",
     "text": [
      "Using downloaded and verified file: datasets/train_32x32.mat\n",
      "Using downloaded and verified file: datasets/test_32x32.mat\n"
     ]
    }
   ],
   "source": [
    "transform_compose = transforms.Compose([\n",
    "                                        transforms.ToTensor(),\n",
    "                                        transforms.Normalize(mean=(c1, c2, c3),  # Normalizing data which has significant impact on results. \n",
    "                                                             std=(c1_std, c2_std, c3_std))\n",
    "                    ])\n",
    "\n",
    "train_dataset = SVHN('datasets', \n",
    "                      split='train',\n",
    "                      download=True,\n",
    "                     transform=transform_compose\n",
    "                     )\n",
    "\n",
    "test_dataset  = SVHN('datasets',\n",
    "                      split='test',\n",
    "                      download=True,\n",
    "                     transform=transform_compose)\n",
    "\n",
    "# calculate mean and standard deviation of the training set\n",
    "\n",
    "train_loader = DataLoader(dataset=train_dataset,\n",
    "                          batch_size=batch_size,\n",
    "                          shuffle=True)\n",
    "\n",
    "test_loader  = DataLoader(dataset=test_dataset,\n",
    "                          batch_size=batch_size,\n",
    "                          shuffle=False)"
   ]
  },
  {
   "cell_type": "code",
   "execution_count": 37,
   "id": "5joxP4MZWsE7",
   "metadata": {
    "id": "5joxP4MZWsE7"
   },
   "outputs": [],
   "source": [
    "import matplotlib.pyplot as plt"
   ]
  },
  {
   "cell_type": "code",
   "execution_count": 38,
   "id": "_oyvcYp86y6I",
   "metadata": {
    "id": "_oyvcYp86y6I"
   },
   "outputs": [],
   "source": [
    "(images, labels) = next(iter(train_loader))"
   ]
  },
  {
   "cell_type": "code",
   "execution_count": 39,
   "id": "Yxf4_j-yiT8g",
   "metadata": {
    "colab": {
     "base_uri": "https://localhost:8080/"
    },
    "id": "Yxf4_j-yiT8g",
    "outputId": "35a5fcb2-7312-4a17-9e0e-4deff091d798"
   },
   "outputs": [
    {
     "data": {
      "text/plain": [
       "(torch.Size([3, 32, 32]), torch.Size([100]))"
      ]
     },
     "execution_count": 39,
     "metadata": {},
     "output_type": "execute_result"
    }
   ],
   "source": [
    "images[0].shape, labels.shape"
   ]
  },
  {
   "cell_type": "code",
   "execution_count": 40,
   "id": "legPOGEYjIpF",
   "metadata": {
    "colab": {
     "base_uri": "https://localhost:8080/"
    },
    "id": "legPOGEYjIpF",
    "outputId": "faed9a5c-2604-4860-855b-b0d1f2f95b4b"
   },
   "outputs": [
    {
     "data": {
      "text/plain": [
       "tensor(1)"
      ]
     },
     "execution_count": 40,
     "metadata": {},
     "output_type": "execute_result"
    }
   ],
   "source": [
    "labels[4]"
   ]
  },
  {
   "cell_type": "code",
   "execution_count": 41,
   "id": "PX2grCKOxd49",
   "metadata": {
    "id": "PX2grCKOxd49"
   },
   "outputs": [],
   "source": []
  },
  {
   "cell_type": "code",
   "execution_count": 42,
   "id": "5YsEVB25QOZO",
   "metadata": {
    "id": "5YsEVB25QOZO"
   },
   "outputs": [],
   "source": [
    "model = M2SupervisedCNN(num_labels,\n",
    "                     input_dim, \n",
    "                     hidden_dim, \n",
    "                     output_dim,\n",
    "                     latent_dim\n",
    "                     ).to(DEVICE)\n",
    "\n",
    "optimizer = Adam(model.parameters(), lr=1e-3)"
   ]
  },
  {
   "cell_type": "code",
   "execution_count": 43,
   "id": "Ebo8Cy2JOrqt",
   "metadata": {
    "colab": {
     "base_uri": "https://localhost:8080/"
    },
    "id": "Ebo8Cy2JOrqt",
    "outputId": "64df62b0-3849-4f46-ef87-a18ad0deff9b"
   },
   "outputs": [
    {
     "name": "stderr",
     "output_type": "stream",
     "text": [
      "100%|██████████| 261/261 [00:10<00:00, 25.30it/s]\n"
     ]
    },
    {
     "name": "stdout",
     "output_type": "stream",
     "text": [
      "Epoch 0\n",
      "Loss 2116.970471951844\n",
      "Train Accuracy 0.38565597826828835\n",
      "Test Accuracy 0.4695759065765212\n"
     ]
    },
    {
     "name": "stderr",
     "output_type": "stream",
     "text": [
      "100%|██████████| 261/261 [00:10<00:00, 25.33it/s]\n"
     ]
    },
    {
     "name": "stdout",
     "output_type": "stream",
     "text": [
      "Epoch 1\n",
      "Loss 1997.7552797344604\n",
      "Train Accuracy 0.49712655445895954\n",
      "Test Accuracy 0.49819452980946527\n"
     ]
    },
    {
     "name": "stderr",
     "output_type": "stream",
     "text": [
      "100%|██████████| 261/261 [00:10<00:00, 25.53it/s]\n"
     ]
    },
    {
     "name": "stdout",
     "output_type": "stream",
     "text": [
      "Epoch 2\n",
      "Loss 1970.2835166922814\n",
      "Train Accuracy 0.5227896310250215\n",
      "Test Accuracy 0.5213967424708051\n"
     ]
    },
    {
     "name": "stderr",
     "output_type": "stream",
     "text": [
      "100%|██████████| 261/261 [00:10<00:00, 25.62it/s]\n"
     ]
    },
    {
     "name": "stdout",
     "output_type": "stream",
     "text": [
      "Epoch 3\n",
      "Loss 1957.7988738046447\n",
      "Train Accuracy 0.5380100195203189\n",
      "Test Accuracy 0.5365703749231715\n"
     ]
    },
    {
     "name": "stderr",
     "output_type": "stream",
     "text": [
      "100%|██████████| 261/261 [00:09<00:00, 26.28it/s]\n"
     ]
    },
    {
     "name": "stdout",
     "output_type": "stream",
     "text": [
      "Epoch 4\n",
      "Loss 1948.9183252219946\n",
      "Train Accuracy 0.5524250242297665\n",
      "Test Accuracy 0.5537415488629379\n"
     ]
    },
    {
     "name": "stderr",
     "output_type": "stream",
     "text": [
      "100%|██████████| 261/261 [00:10<00:00, 25.65it/s]\n"
     ]
    },
    {
     "name": "stdout",
     "output_type": "stream",
     "text": [
      "Epoch 5\n",
      "Loss 1938.9985884135929\n",
      "Train Accuracy 0.5923529492062192\n",
      "Test Accuracy 0.6075983405039951\n"
     ]
    },
    {
     "name": "stderr",
     "output_type": "stream",
     "text": [
      "100%|██████████| 261/261 [00:08<00:00, 31.68it/s]\n"
     ]
    },
    {
     "name": "stdout",
     "output_type": "stream",
     "text": [
      "Epoch 6\n",
      "Loss 1932.3627281847678\n",
      "Train Accuracy 0.6185756992505835\n",
      "Test Accuracy 0.6130915795943455\n"
     ]
    },
    {
     "name": "stderr",
     "output_type": "stream",
     "text": [
      "100%|██████████| 261/261 [00:07<00:00, 33.29it/s]\n"
     ]
    },
    {
     "name": "stdout",
     "output_type": "stream",
     "text": [
      "Epoch 7\n",
      "Loss 1927.6478938268442\n",
      "Train Accuracy 0.6367719125817328\n",
      "Test Accuracy 0.643861401352182\n"
     ]
    },
    {
     "name": "stderr",
     "output_type": "stream",
     "text": [
      "100%|██████████| 261/261 [00:08<00:00, 31.67it/s]\n"
     ]
    },
    {
     "name": "stdout",
     "output_type": "stream",
     "text": [
      "Epoch 8\n",
      "Loss 1918.7597020150274\n",
      "Train Accuracy 0.6895040746959334\n",
      "Test Accuracy 0.7027888752304856\n"
     ]
    },
    {
     "name": "stderr",
     "output_type": "stream",
     "text": [
      "100%|██████████| 261/261 [00:08<00:00, 29.70it/s]\n"
     ]
    },
    {
     "name": "stdout",
     "output_type": "stream",
     "text": [
      "Epoch 9\n",
      "Loss 1911.5309347250684\n",
      "Train Accuracy 0.7337592311997488\n",
      "Test Accuracy 0.7152350952673633\n"
     ]
    },
    {
     "name": "stderr",
     "output_type": "stream",
     "text": [
      "100%|██████████| 261/261 [00:08<00:00, 29.86it/s]\n"
     ]
    },
    {
     "name": "stdout",
     "output_type": "stream",
     "text": [
      "Epoch 10\n",
      "Loss 1908.8083115607924\n",
      "Train Accuracy 0.7448434961846649\n",
      "Test Accuracy 0.7201905347264905\n"
     ]
    },
    {
     "name": "stderr",
     "output_type": "stream",
     "text": [
      "100%|██████████| 261/261 [00:08<00:00, 29.08it/s]\n"
     ]
    },
    {
     "name": "stdout",
     "output_type": "stream",
     "text": [
      "Epoch 11\n",
      "Loss 1903.523678705601\n",
      "Train Accuracy 0.7731684344158237\n",
      "Test Accuracy 0.7520359557467732\n"
     ]
    },
    {
     "name": "stderr",
     "output_type": "stream",
     "text": [
      "100%|██████████| 261/261 [00:08<00:00, 30.22it/s]\n"
     ]
    },
    {
     "name": "stdout",
     "output_type": "stream",
     "text": [
      "Epoch 12\n",
      "Loss 1900.0449681950136\n",
      "Train Accuracy 0.7872421748092332\n",
      "Test Accuracy 0.7572602950215119\n"
     ]
    },
    {
     "name": "stderr",
     "output_type": "stream",
     "text": [
      "100%|██████████| 261/261 [00:08<00:00, 30.38it/s]\n"
     ]
    },
    {
     "name": "stdout",
     "output_type": "stream",
     "text": [
      "Epoch 13\n",
      "Loss 1894.5816114882173\n",
      "Train Accuracy 0.8103935460092551\n",
      "Test Accuracy 0.7820759065765212\n"
     ]
    },
    {
     "name": "stderr",
     "output_type": "stream",
     "text": [
      "100%|██████████| 261/261 [00:08<00:00, 32.47it/s]\n"
     ]
    },
    {
     "name": "stdout",
     "output_type": "stream",
     "text": [
      "Epoch 14\n",
      "Loss 1891.1465203423838\n",
      "Train Accuracy 0.8278935801356867\n",
      "Test Accuracy 0.8068146896127842\n"
     ]
    },
    {
     "name": "stderr",
     "output_type": "stream",
     "text": [
      "100%|██████████| 261/261 [00:08<00:00, 31.27it/s]\n"
     ]
    },
    {
     "name": "stdout",
     "output_type": "stream",
     "text": [
      "Epoch 15\n",
      "Loss 1889.1212662226776\n",
      "Train Accuracy 0.8590714880489236\n",
      "Test Accuracy 0.8145743700061463\n"
     ]
    },
    {
     "name": "stderr",
     "output_type": "stream",
     "text": [
      "100%|██████████| 261/261 [00:08<00:00, 31.70it/s]\n"
     ]
    },
    {
     "name": "stdout",
     "output_type": "stream",
     "text": [
      "Epoch 16\n",
      "Loss 1884.7269761782786\n",
      "Train Accuracy 0.8694186221111976\n",
      "Test Accuracy 0.82509987707437\n"
     ]
    },
    {
     "name": "stderr",
     "output_type": "stream",
     "text": [
      "100%|██████████| 261/261 [00:08<00:00, 30.33it/s]\n"
     ]
    },
    {
     "name": "stdout",
     "output_type": "stream",
     "text": [
      "Epoch 17\n",
      "Loss 1880.4070723403347\n",
      "Train Accuracy 0.8782232414649794\n",
      "Test Accuracy 0.8245620774431469\n"
     ]
    },
    {
     "name": "stderr",
     "output_type": "stream",
     "text": [
      "100%|██████████| 261/261 [00:08<00:00, 29.64it/s]\n"
     ]
    },
    {
     "name": "stdout",
     "output_type": "stream",
     "text": [
      "Epoch 18\n",
      "Loss 1878.9474839907787\n",
      "Train Accuracy 0.8827415810093233\n",
      "Test Accuracy 0.8292870313460357\n"
     ]
    },
    {
     "name": "stderr",
     "output_type": "stream",
     "text": [
      "100%|██████████| 261/261 [00:08<00:00, 30.05it/s]\n"
     ]
    },
    {
     "name": "stdout",
     "output_type": "stream",
     "text": [
      "Epoch 19\n",
      "Loss 1877.6993334827528\n",
      "Train Accuracy 0.886495488485742\n",
      "Test Accuracy 0.8270974185617701\n"
     ]
    },
    {
     "name": "stderr",
     "output_type": "stream",
     "text": [
      "100%|██████████| 261/261 [00:08<00:00, 29.99it/s]\n"
     ]
    },
    {
     "name": "stdout",
     "output_type": "stream",
     "text": [
      "Epoch 20\n",
      "Loss 1876.5892296362706\n",
      "Train Accuracy 0.8914369957819731\n",
      "Test Accuracy 0.8341656422864168\n"
     ]
    },
    {
     "name": "stderr",
     "output_type": "stream",
     "text": [
      "100%|██████████| 261/261 [00:08<00:00, 30.63it/s]\n"
     ]
    },
    {
     "name": "stdout",
     "output_type": "stream",
     "text": [
      "Epoch 21\n",
      "Loss 1875.822703637295\n",
      "Train Accuracy 0.8941944114555606\n",
      "Test Accuracy 0.8320144437615242\n"
     ]
    },
    {
     "name": "stderr",
     "output_type": "stream",
     "text": [
      "100%|██████████| 261/261 [00:08<00:00, 32.51it/s]\n"
     ]
    },
    {
     "name": "stdout",
     "output_type": "stream",
     "text": [
      "Epoch 22\n",
      "Loss 1874.927445888832\n",
      "Train Accuracy 0.8975115006074504\n",
      "Test Accuracy 0.8329363859864782\n"
     ]
    },
    {
     "name": "stderr",
     "output_type": "stream",
     "text": [
      "100%|██████████| 261/261 [00:07<00:00, 32.80it/s]\n"
     ]
    },
    {
     "name": "stdout",
     "output_type": "stream",
     "text": [
      "Epoch 23\n",
      "Loss 1874.0617889771174\n",
      "Train Accuracy 0.9007193851782083\n",
      "Test Accuracy 0.8335894283958205\n"
     ]
    },
    {
     "name": "stderr",
     "output_type": "stream",
     "text": [
      "100%|██████████| 261/261 [00:08<00:00, 30.90it/s]\n"
     ]
    },
    {
     "name": "stdout",
     "output_type": "stream",
     "text": [
      "Epoch 24\n",
      "Loss 1873.370791709358\n",
      "Train Accuracy 0.9029307779461349\n",
      "Test Accuracy 0.8350875845113707\n"
     ]
    },
    {
     "name": "stderr",
     "output_type": "stream",
     "text": [
      "100%|██████████| 261/261 [00:08<00:00, 29.94it/s]\n"
     ]
    },
    {
     "name": "stdout",
     "output_type": "stream",
     "text": [
      "Epoch 25\n",
      "Loss 1872.9901238046448\n",
      "Train Accuracy 0.9049920144150048\n",
      "Test Accuracy 0.8332437000614629\n"
     ]
    },
    {
     "name": "stderr",
     "output_type": "stream",
     "text": [
      "100%|██████████| 261/261 [00:08<00:00, 29.25it/s]\n"
     ]
    },
    {
     "name": "stdout",
     "output_type": "stream",
     "text": [
      "Epoch 26\n",
      "Loss 1872.2231990693306\n",
      "Train Accuracy 0.9083091035668946\n",
      "Test Accuracy 0.832360172095882\n"
     ]
    },
    {
     "name": "stderr",
     "output_type": "stream",
     "text": [
      "100%|██████████| 261/261 [00:09<00:00, 28.56it/s]\n"
     ]
    },
    {
     "name": "stdout",
     "output_type": "stream",
     "text": [
      "Epoch 27\n",
      "Loss 1871.4741170380805\n",
      "Train Accuracy 0.9100154251470849\n",
      "Test Accuracy 0.8385064535955746\n"
     ]
    },
    {
     "name": "stderr",
     "output_type": "stream",
     "text": [
      "100%|██████████| 261/261 [00:08<00:00, 29.24it/s]\n"
     ]
    },
    {
     "name": "stdout",
     "output_type": "stream",
     "text": [
      "Epoch 28\n",
      "Loss 1870.9581544569671\n",
      "Train Accuracy 0.9119674570348226\n",
      "Test Accuracy 0.8379686539643516\n"
     ]
    },
    {
     "name": "stderr",
     "output_type": "stream",
     "text": [
      "100%|██████████| 261/261 [00:08<00:00, 29.71it/s]\n"
     ]
    },
    {
     "name": "stdout",
     "output_type": "stream",
     "text": [
      "Epoch 29\n",
      "Loss 1870.2063373036203\n",
      "Train Accuracy 0.914069645221617\n",
      "Test Accuracy 0.8370467117393977\n"
     ]
    },
    {
     "name": "stderr",
     "output_type": "stream",
     "text": [
      "100%|██████████| 261/261 [00:08<00:00, 29.98it/s]\n"
     ]
    },
    {
     "name": "stdout",
     "output_type": "stream",
     "text": [
      "Epoch 30\n",
      "Loss 1869.8492769168374\n",
      "Train Accuracy 0.9164175437159588\n",
      "Test Accuracy 0.8345881991395205\n"
     ]
    },
    {
     "name": "stderr",
     "output_type": "stream",
     "text": [
      "100%|██████████| 261/261 [00:08<00:00, 30.05it/s]\n"
     ]
    },
    {
     "name": "stdout",
     "output_type": "stream",
     "text": [
      "Epoch 31\n",
      "Loss 1869.3353823002049\n",
      "Train Accuracy 0.9182194193046398\n",
      "Test Accuracy 0.8366241548862938\n"
     ]
    },
    {
     "name": "stderr",
     "output_type": "stream",
     "text": [
      "100%|██████████| 261/261 [00:08<00:00, 32.24it/s]\n"
     ]
    },
    {
     "name": "stdout",
     "output_type": "stream",
     "text": [
      "Epoch 32\n",
      "Loss 1868.71975068306\n",
      "Train Accuracy 0.9211133407046426\n",
      "Test Accuracy 0.8374692685925015\n"
     ]
    },
    {
     "name": "stderr",
     "output_type": "stream",
     "text": [
      "100%|██████████| 261/261 [00:08<00:00, 29.71it/s]\n"
     ]
    },
    {
     "name": "stdout",
     "output_type": "stream",
     "text": [
      "Epoch 33\n",
      "Loss 1868.400168950649\n",
      "Train Accuracy 0.9218231704820017\n",
      "Test Accuracy 0.8359711124769514\n"
     ]
    },
    {
     "name": "stderr",
     "output_type": "stream",
     "text": [
      "100%|██████████| 261/261 [00:08<00:00, 30.68it/s]\n"
     ]
    },
    {
     "name": "stdout",
     "output_type": "stream",
     "text": [
      "Epoch 34\n",
      "Loss 1867.7395069159836\n",
      "Train Accuracy 0.9242529724121927\n",
      "Test Accuracy 0.8351259987707437\n"
     ]
    },
    {
     "name": "stderr",
     "output_type": "stream",
     "text": [
      "100%|██████████| 261/261 [00:08<00:00, 30.63it/s]\n"
     ]
    },
    {
     "name": "stdout",
     "output_type": "stream",
     "text": [
      "Epoch 35\n",
      "Loss 1867.368827271175\n",
      "Train Accuracy 0.9261777031546473\n",
      "Test Accuracy 0.8337430854333129\n"
     ]
    },
    {
     "name": "stderr",
     "output_type": "stream",
     "text": [
      "100%|██████████| 261/261 [00:08<00:00, 31.85it/s]\n"
     ]
    },
    {
     "name": "stdout",
     "output_type": "stream",
     "text": [
      "Epoch 36\n",
      "Loss 1867.0758763447745\n",
      "Train Accuracy 0.9270922915216293\n",
      "Test Accuracy 0.8377381684081131\n"
     ]
    },
    {
     "name": "stderr",
     "output_type": "stream",
     "text": [
      "100%|██████████| 261/261 [00:08<00:00, 30.14it/s]\n"
     ]
    },
    {
     "name": "stdout",
     "output_type": "stream",
     "text": [
      "Epoch 37\n",
      "Loss 1866.486696977459\n",
      "Train Accuracy 0.9284983005037061\n",
      "Test Accuracy 0.83769975414874\n"
     ]
    },
    {
     "name": "stderr",
     "output_type": "stream",
     "text": [
      "100%|██████████| 261/261 [00:09<00:00, 28.74it/s]\n"
     ]
    },
    {
     "name": "stdout",
     "output_type": "stream",
     "text": [
      "Epoch 38\n",
      "Loss 1865.9757673753415\n",
      "Train Accuracy 0.9301909715112548\n",
      "Test Accuracy 0.8327827289489859\n"
     ]
    },
    {
     "name": "stderr",
     "output_type": "stream",
     "text": [
      "100%|██████████| 261/261 [00:09<00:00, 27.30it/s]\n"
     ]
    },
    {
     "name": "stdout",
     "output_type": "stream",
     "text": [
      "Epoch 39\n",
      "Loss 1865.7361324923156\n",
      "Train Accuracy 0.9314058724763504\n",
      "Test Accuracy 0.8368930547019053\n"
     ]
    },
    {
     "name": "stderr",
     "output_type": "stream",
     "text": [
      "100%|██████████| 261/261 [00:08<00:00, 29.37it/s]\n"
     ]
    },
    {
     "name": "stdout",
     "output_type": "stream",
     "text": [
      "Epoch 40\n",
      "Loss 1865.1496451289277\n",
      "Train Accuracy 0.9328391826037102\n",
      "Test Accuracy 0.8369314689612785\n"
     ]
    },
    {
     "name": "stderr",
     "output_type": "stream",
     "text": [
      "100%|██████████| 261/261 [00:09<00:00, 28.97it/s]\n"
     ]
    },
    {
     "name": "stdout",
     "output_type": "stream",
     "text": [
      "Epoch 41\n",
      "Loss 1865.0301490992144\n",
      "Train Accuracy 0.9335490123810694\n",
      "Test Accuracy 0.8378918254456054\n"
     ]
    },
    {
     "name": "stderr",
     "output_type": "stream",
     "text": [
      "100%|██████████| 261/261 [00:09<00:00, 28.58it/s]\n"
     ]
    },
    {
     "name": "stdout",
     "output_type": "stream",
     "text": [
      "Epoch 42\n",
      "Loss 1864.7243185408129\n",
      "Train Accuracy 0.9344772513206929\n",
      "Test Accuracy 0.8350491702519975\n"
     ]
    },
    {
     "name": "stderr",
     "output_type": "stream",
     "text": [
      "100%|██████████| 261/261 [00:08<00:00, 29.24it/s]\n"
     ]
    },
    {
     "name": "stdout",
     "output_type": "stream",
     "text": [
      "Epoch 43\n",
      "Loss 1864.3739980362022\n",
      "Train Accuracy 0.9358696097301282\n",
      "Test Accuracy 0.8381223110018439\n"
     ]
    },
    {
     "name": "stderr",
     "output_type": "stream",
     "text": [
      "100%|██████████| 261/261 [00:09<00:00, 27.95it/s]\n"
     ]
    },
    {
     "name": "stdout",
     "output_type": "stream",
     "text": [
      "Epoch 44\n",
      "Loss 1863.7881793246243\n",
      "Train Accuracy 0.9372346669942804\n",
      "Test Accuracy 0.8363168408113092\n"
     ]
    },
    {
     "name": "stderr",
     "output_type": "stream",
     "text": [
      "100%|██████████| 261/261 [00:09<00:00, 28.78it/s]\n"
     ]
    },
    {
     "name": "stdout",
     "output_type": "stream",
     "text": [
      "Epoch 45\n",
      "Loss 1863.8412766820354\n",
      "Train Accuracy 0.9376305336008846\n",
      "Test Accuracy 0.8366625691456668\n"
     ]
    },
    {
     "name": "stderr",
     "output_type": "stream",
     "text": [
      "100%|██████████| 261/261 [00:15<00:00, 16.95it/s]\n"
     ]
    },
    {
     "name": "stdout",
     "output_type": "stream",
     "text": [
      "Epoch 46\n",
      "Loss 1863.5270426699112\n",
      "Train Accuracy 0.9386543265489987\n",
      "Test Accuracy 0.8354717271051014\n"
     ]
    },
    {
     "name": "stderr",
     "output_type": "stream",
     "text": [
      "100%|██████████| 261/261 [00:12<00:00, 20.85it/s]\n"
     ]
    },
    {
     "name": "stdout",
     "output_type": "stream",
     "text": [
      "Epoch 47\n",
      "Loss 1863.1456619279372\n",
      "Train Accuracy 0.9401422389669246\n",
      "Test Accuracy 0.8351259987707437\n"
     ]
    },
    {
     "name": "stderr",
     "output_type": "stream",
     "text": [
      "100%|██████████| 261/261 [00:12<00:00, 21.39it/s]\n"
     ]
    },
    {
     "name": "stdout",
     "output_type": "stream",
     "text": [
      "Epoch 48\n",
      "Loss 1862.8722882513662\n",
      "Train Accuracy 0.9405244550008873\n",
      "Test Accuracy 0.8362784265519361\n"
     ]
    },
    {
     "name": "stderr",
     "output_type": "stream",
     "text": [
      "100%|██████████| 261/261 [00:14<00:00, 18.51it/s]"
     ]
    },
    {
     "name": "stdout",
     "output_type": "stream",
     "text": [
      "Epoch 49\n",
      "Loss 1862.6313906676912\n",
      "Train Accuracy 0.9412888870688125\n",
      "Test Accuracy 0.8368546404425322\n"
     ]
    },
    {
     "name": "stderr",
     "output_type": "stream",
     "text": [
      "\n"
     ]
    }
   ],
   "source": [
    "# Training. \n",
    "\n",
    "log = []\n",
    "# tb = SummaryWriter(filename_suffix='M2_Supervised_SVHN_CNN')\n",
    "\n",
    "# (images, labels) = next(iter(train_loader))\n",
    "# grid = torchvision.utils.make_grid(images)\n",
    "\n",
    "# images = images.view(images.size(0), x_dim)\n",
    "# images = images.to(DEVICE)\n",
    "\n",
    "# tb.add_image('images', grid)\n",
    "# tb.add_graph(model, images)\n",
    "epochs = 50\n",
    "alpha = 0.2 * len(train_dataset)\n",
    "\n",
    "for epoch in range(epochs):\n",
    "    \n",
    "    overall_loss = 0\n",
    "    correct_prediction = 0\n",
    "    total_labels = 0\n",
    "    \n",
    "    for batch_idx, (x, labels) in enumerate(train_loader):\n",
    "        # x = x.view(x.size(0), x_dim)\n",
    "        x = x.to(DEVICE)\n",
    "        labels = labels.to(DEVICE)\n",
    "        optimizer.zero_grad()\n",
    "\n",
    "        x_hat, mean, log_var, y_hat = model(x)\n",
    "   \n",
    "        loss = loss_function_CNN(x, x_hat, mean, log_var, labels, y_hat, alpha)\n",
    "        \n",
    "        overall_loss += loss.item()\n",
    "        \n",
    "        loss.backward()\n",
    "        optimizer.step()\n",
    "\n",
    "        correct_prediction += (torch.max(y_hat,1).indices == labels).sum().item()\n",
    "        total_labels += len(labels)\n",
    "    \n",
    "    correct_prediction_test = 0\n",
    "    total_labels_test = 0\n",
    "    \n",
    "    # Computing test error after epoch.\n",
    "    \n",
    "    with torch.no_grad():\n",
    "        for batch_idx_t, (x, labels) in enumerate(tqdm(test_loader)):\n",
    "            # x = x.view(x.size(0), x_dim)\n",
    "            x = x.to(DEVICE)\n",
    "            labels = labels.to(DEVICE)\n",
    "            x_hat, mean, log_var, y_hat = model(x)\n",
    "            \n",
    "            correct_prediction_test += (torch.max(y_hat,1).indices == labels).sum().item()\n",
    "            total_labels_test += len(labels)\n",
    "        \n",
    "    # Logging it to tensor board for visulization.\n",
    "    \n",
    "    # tb.add_scalar('Loss', overall_loss / (batch_idx*batch_size), epoch)\n",
    "    # tb.add_scalar('Train Accuracy', correct_prediction/total_labels, epoch)\n",
    "    # tb.add_scalar('Test Accuracy', correct_prediction_test/total_labels_test, epoch)\n",
    "    # tb.add_histogram('Encoder Mean', model.enc_FC_mean.weight, epoch)\n",
    "    # tb.add_histogram('Encoder Variance', model.enc_FC_var.weight, epoch)\n",
    "    \n",
    "    d = {\n",
    "          'Epoch': epoch,\n",
    "          'Train Accuracy':correct_prediction/total_labels,\n",
    "          'Test Accuracy': correct_prediction_test/total_labels_test,\n",
    "          'Loss': overall_loss / (batch_idx*batch_size),\n",
    "          # 'Encoder Mean': model.enc_FC_mean.weight,\n",
    "          # 'Encoder Variance': model.enc_FC_var.weight,\n",
    "        }\n",
    "    log.append(d)\n",
    "    \n",
    "    print('Epoch', d['Epoch'])\n",
    "    print('Loss', d['Loss'])\n",
    "    print('Train Accuracy', d['Train Accuracy'])\n",
    "    print('Test Accuracy', d['Test Accuracy'])\n",
    "    \n",
    "# tb.close()"
   ]
  },
  {
   "cell_type": "code",
   "execution_count": 52,
   "id": "3fc52de5-ba96-4d24-8bf3-572781896632",
   "metadata": {
    "id": "3fc52de5-ba96-4d24-8bf3-572781896632"
   },
   "outputs": [],
   "source": [
    "import pickle\n",
    "torch.save(model.state_dict(),'M2_supervised_SVHN_CNN_LATEST_alpha_point_1')\n",
    "with open('M2_supervised_SVHN_CNN_LATEST_alpha_point_1_log.pickle', 'wb') as f:\n",
    "  pickle.dump(log, f)"
   ]
  },
  {
   "cell_type": "code",
   "execution_count": 44,
   "id": "iMODAJ-PWHrj",
   "metadata": {
    "id": "iMODAJ-PWHrj"
   },
   "outputs": [],
   "source": []
  },
  {
   "cell_type": "code",
   "execution_count": 53,
   "id": "3f768e54-ce7c-4596-9907-903f9ffa19e2",
   "metadata": {
    "id": "3f768e54-ce7c-4596-9907-903f9ffa19e2"
   },
   "outputs": [],
   "source": [
    "import matplotlib.pyplot as plt\n",
    "data = np.array([np.array([i['Epoch'], \n",
    "                           i['Train Accuracy'], \n",
    "                           i['Test Accuracy'],\n",
    "                           i['Loss'],\n",
    "                          #  i['Encoder Mean'].cpu().detach(),\n",
    "                          #  i['Encoder Variance'].cpu().detach()\n",
    "                          ], dtype=np.float128) for i in log ])\n"
   ]
  },
  {
   "cell_type": "code",
   "execution_count": 46,
   "id": "vq8_aRi4VwnH",
   "metadata": {
    "id": "vq8_aRi4VwnH"
   },
   "outputs": [],
   "source": [
    "# with open('M2_supervised_SVHN_CNN_LATEST_alpha_point_1_log.pickle', 'wb') as f:\n",
    "#     pickle.dump(data, f)"
   ]
  },
  {
   "cell_type": "code",
   "execution_count": 54,
   "id": "SjW9qwrhWj-K",
   "metadata": {
    "colab": {
     "base_uri": "https://localhost:8080/",
     "height": 448
    },
    "id": "SjW9qwrhWj-K",
    "outputId": "f9e67db9-c94d-4691-f1ce-eb5e76a1a682"
   },
   "outputs": [
    {
     "data": {
      "text/plain": [
       "Text(0.5, 1.0, 'M2 Model CNN: Epoch Vs Loss: SVHN')"
      ]
     },
     "execution_count": 54,
     "metadata": {},
     "output_type": "execute_result"
    },
    {
     "data": {
      "image/png": "[encoded data removed]",
      "text/plain": [
       "<Figure size 2000x500 with 1 Axes>"
      ]
     },
     "metadata": {},
     "output_type": "display_data"
    }
   ],
   "source": [
    "plt.rcParams[\"figure.figsize\"] = [20, 5]\n",
    "\n",
    "plt.plot(data[:,0], data[:,3])\n",
    "plt.title(\"M2 Model CNN: Epoch Vs Loss: SVHN\") \n",
    "\n",
    "# # Please pardon M3 typo here"
   ]
  },
  {
   "cell_type": "code",
   "execution_count": 55,
   "id": "UsXN0rCSWndW",
   "metadata": {
    "colab": {
     "base_uri": "https://localhost:8080/",
     "height": 451
    },
    "id": "UsXN0rCSWndW",
    "outputId": "a3645bd9-4a9e-4b0f-905d-b3ae26a5dae6"
   },
   "outputs": [
    {
     "data": {
      "text/plain": [
       "<matplotlib.legend.Legend at 0x7f2eb5ff05e0>"
      ]
     },
     "execution_count": 55,
     "metadata": {},
     "output_type": "execute_result"
    },
    {
     "data": {
      "image/png": "[encoded data removed]",
      "text/plain": [
       "<Figure size 2000x500 with 1 Axes>"
      ]
     },
     "metadata": {},
     "output_type": "display_data"
    }
   ],
   "source": [
    "plt.rcParams[\"figure.figsize\"] = [20, 5]\n",
    "\n",
    "plt.plot(data[:,0], data[:,1])\n",
    "plt.plot(data[:,0], data[:,2])\n",
    "plt.title(\"M2 Model CNN: Epoch Vs Accuracy: SVHN\")\n",
    "plt.legend(('Train', 'Test'))\n",
    "\n",
    "# Please pardon M3 typo here"
   ]
  },
  {
   "cell_type": "code",
   "execution_count": 56,
   "id": "086f3283-94f1-4db8-86cb-be9ed308b1ed",
   "metadata": {
    "id": "086f3283-94f1-4db8-86cb-be9ed308b1ed"
   },
   "outputs": [],
   "source": [
    "# model.load_state_dict(torch.load('M2_supervised_SVHN_CNN_LATEST_alpha_point_1', map_location=torch.device('cpu')),)"
   ]
  },
  {
   "cell_type": "code",
   "execution_count": 56,
   "id": "93ef080b-e914-48bb-be38-95ed6fc803ef",
   "metadata": {
    "id": "93ef080b-e914-48bb-be38-95ed6fc803ef"
   },
   "outputs": [],
   "source": []
  },
  {
   "cell_type": "code",
   "execution_count": 57,
   "id": "v6OmLj31P_6Y",
   "metadata": {
    "colab": {
     "base_uri": "https://localhost:8080/"
    },
    "id": "v6OmLj31P_6Y",
    "outputId": "35877cfe-37e3-4d62-d180-897ad0614651"
   },
   "outputs": [
    {
     "name": "stderr",
     "output_type": "stream",
     "text": [
      "100%|██████████| 261/261 [00:09<00:00, 27.97it/s]\n"
     ]
    },
    {
     "data": {
      "text/plain": [
       "0.8368546404425322"
      ]
     },
     "execution_count": 57,
     "metadata": {},
     "output_type": "execute_result"
    }
   ],
   "source": [
    "model.eval()\n",
    "\n",
    "correct_prediction = 0\n",
    "total_labels = 0\n",
    "with torch.no_grad():\n",
    "    for batch_idx, (x, labels) in enumerate(tqdm(test_loader)):\n",
    "        # x = x.view(x.size(0), x_dim)\n",
    "        x = x.to(DEVICE)\n",
    "        labels = labels.to(DEVICE)\n",
    "        x_hat, mean, log_var, y_hat = model(x)\n",
    "        \n",
    "        correct_prediction += (torch.max(y_hat,1).indices == labels).sum().item() \n",
    "        total_labels += len(labels)\n",
    "        \n",
    "correct_prediction/total_labels"
   ]
  },
  {
   "cell_type": "code",
   "execution_count": 72,
   "id": "GFe1oB36seGn",
   "metadata": {
    "id": "GFe1oB36seGn"
   },
   "outputs": [],
   "source": []
  },
  {
   "cell_type": "code",
   "execution_count": 103,
   "id": "UOer8VruhJSV",
   "metadata": {
    "colab": {
     "base_uri": "https://localhost:8080/",
     "height": 1000
    },
    "id": "UOer8VruhJSV",
    "outputId": "8fb03e5a-59e6-4415-8a00-a3472cff4cac"
   },
   "outputs": [
    {
     "data": {
      "text/plain": [
       "<Figure size 600x500 with 0 Axes>"
      ]
     },
     "metadata": {},
     "output_type": "display_data"
    },
    {
     "data": {
      "image/png": "[encoded data removed]",
      "text/plain": [
       "<Figure size 600x500 with 2 Axes>"
      ]
     },
     "metadata": {},
     "output_type": "display_data"
    },
    {
     "data": {
      "text/plain": [
       "<Figure size 600x500 with 0 Axes>"
      ]
     },
     "metadata": {},
     "output_type": "display_data"
    },
    {
     "data": {
      "image/png": "[encoded data removed]",
      "text/plain": [
       "<Figure size 600x500 with 2 Axes>"
      ]
     },
     "metadata": {},
     "output_type": "display_data"
    },
    {
     "data": {
      "text/plain": [
       "<Figure size 600x500 with 0 Axes>"
      ]
     },
     "metadata": {},
     "output_type": "display_data"
    },
    {
     "data": {
      "image/png": "[encoded data removed]",
      "text/plain": [
       "<Figure size 600x500 with 2 Axes>"
      ]
     },
     "metadata": {},
     "output_type": "display_data"
    },
    {
     "data": {
      "text/plain": [
       "<Figure size 600x500 with 0 Axes>"
      ]
     },
     "metadata": {},
     "output_type": "display_data"
    },
    {
     "data": {
      "image/png": "[encoded data removed]",
      "text/plain": [
       "<Figure size 600x500 with 2 Axes>"
      ]
     },
     "metadata": {},
     "output_type": "display_data"
    },
    {
     "data": {
      "text/plain": [
       "<Figure size 600x500 with 0 Axes>"
      ]
     },
     "metadata": {},
     "output_type": "display_data"
    },
    {
     "data": {
      "image/png": "[encoded data removed]",
      "text/plain": [
       "<Figure size 600x500 with 2 Axes>"
      ]
     },
     "metadata": {},
     "output_type": "display_data"
    }
   ],
   "source": [
    "# Plotting only one channel here because of unnormalizatio is not done \n",
    "\n",
    "plt.rcParams[\"figure.figsize\"] = [6, 5]\n",
    "\n",
    "def show_image(x, x_hat, idx, xdim):\n",
    "    x = x.view(-1, xdim, xdim)\n",
    "    x_hat = x_hat.view(-1, xdim, xdim)\n",
    "    \n",
    "    fig = plt.figure()\n",
    "    fig, ax = plt.subplots(nrows=1, ncols=2)\n",
    "    \n",
    "    # ax[0].imshow(x[idx].permute(1, 2, 0).cpu().numpy())\n",
    "    # ax[1].imshow(x_hat[idx].permute(1, 2, 0).cpu().numpy())\n",
    "\n",
    "    ax[0].imshow(x[idx].cpu().numpy())\n",
    "    ax[1].imshow(x_hat[idx].cpu().numpy())\n",
    "\n",
    "    plt.show()\n",
    "    \n",
    "# Plot 5 images.\n",
    "for i in range(5):\n",
    "    show_image(x, x_hat, idx=i, xdim=32)"
   ]
  },
  {
   "cell_type": "code",
   "execution_count": null,
   "id": "ylHYIvNBuaWI",
   "metadata": {
    "id": "ylHYIvNBuaWI"
   },
   "outputs": [],
   "source": []
  }
 ],
 "metadata": {
  "accelerator": "GPU",
  "colab": {
   "provenance": []
  },
  "gpuClass": "standard",
  "kernelspec": {
   "display_name": "Python 3 (ipykernel)",
   "language": "python",
   "name": "python3"
  },
  "language_info": {
   "codemirror_mode": {
    "name": "ipython",
    "version": 3
   },
   "file_extension": ".py",
   "mimetype": "text/x-python",
   "name": "python",
   "nbconvert_exporter": "python",
   "pygments_lexer": "ipython3",
   "version": "3.9.12"
  }
 },
 "nbformat": 4,
 "nbformat_minor": 5
}
